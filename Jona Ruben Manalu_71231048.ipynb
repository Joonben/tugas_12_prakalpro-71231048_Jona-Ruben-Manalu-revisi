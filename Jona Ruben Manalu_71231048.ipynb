{
 "cells": [
  {
   "cell_type": "code",
   "execution_count": 3,
   "id": "34dd8c78",
   "metadata": {},
   "outputs": [
    {
     "name": "stdout",
     "output_type": "stream",
     "text": [
      "True\n"
     ]
    }
   ],
   "source": [
    "#latihan mandiri 11.1\n",
    "tA = (90,90,90,90)\n",
    "tB = tA[0]\n",
    "\n",
    "for i in tA:\n",
    "    if i == tB:\n",
    "        tC = (\"True\")\n",
    "    else:\n",
    "        print(false)\n",
    "        exit()\n",
    "        \n",
    "print(tC)"
   ]
  },
  {
   "cell_type": "code",
   "execution_count": 1,
   "id": "360445df",
   "metadata": {},
   "outputs": [
    {
     "name": "stdout",
     "output_type": "stream",
     "text": [
      "Masukan nim :71231048\n",
      "masukan nama lengkap :jona ruben manalu\n",
      "masukan alamat :yogyakarta\n",
      "\n",
      "Data\n",
      "NIM : 71231048\n",
      "NAMA : jona ruben manalu\n",
      "ALAMAT yogyakarta\n",
      "\n",
      "NIM : ('7', '1', '2', '3', '1', '0', '4', '8')\n",
      "NAMA DEPAN : ('j',)\n",
      "NAMA TERBALIK : ('manalu', 'ruben', 'jona')\n"
     ]
    }
   ],
   "source": [
    "inim = input(\"Masukan nim :\")\n",
    "inama = input(\"masukan nama lengkap :\")\n",
    "ialamat = input(\"masukan alamat :\")\n",
    "print()\n",
    "\n",
    "print(\"Data\")\n",
    "print(\"NIM :\", inim)\n",
    "print(\"NAMA :\", inama)\n",
    "print(\"ALAMAT\", ialamat)\n",
    "print()\n",
    "\n",
    "tpl = tuple(inim)\n",
    "print(\"NIM :\",tpl)\n",
    "tpl1 = inama.split()\n",
    "tpl11= tuple(tpl1[0][:1])\n",
    "print(\"NAMA DEPAN :\",tpl11)\n",
    "tpl2 = inama.split()\n",
    "tpl3 = tpl2[::-1]\n",
    "print(\"NAMA TERBALIK :\",tuple(tpl3))"
   ]
  },
  {
   "cell_type": "code",
   "execution_count": 9,
   "id": "06e74611",
   "metadata": {},
   "outputs": [
    {
     "name": "stdout",
     "output_type": "stream",
     "text": [
      "Enter file name: mbox-short.txt\n",
      "04 3\n",
      "06 1\n",
      "07 1\n",
      "09 2\n",
      "10 3\n",
      "11 6\n",
      "14 1\n",
      "15 2\n",
      "16 4\n",
      "17 2\n",
      "18 1\n",
      "19 1\n"
     ]
    }
   ],
   "source": [
    "#latihan mandiri 11.3\n",
    "namafile = input('Enter file name: ')\n",
    "domain = dict()\n",
    "lst =  list()\n",
    "\n",
    "try:\n",
    "    handle = open(namafile)\n",
    "except:\n",
    "    print('File cannot be opened:', namafile)\n",
    "    exit()\n",
    "\n",
    "for line in handle:\n",
    "    kata = line.split()\n",
    "    if len(kata) < 2 or kata[0] != \"From\":\n",
    "      continue\n",
    "    post = kata[5].split(\":\")\n",
    "    jam = post[0]\n",
    "    if jam not in domain:\n",
    "        domain[jam] = 1\n",
    "    else:\n",
    "        domain[jam] += 1\n",
    "for key, val in list(domain.items()):\n",
    "    lst.append((key, val))\n",
    "lst.sort()\n",
    "for key, val in lst:\n",
    "    print(key, val)"
   ]
  },
  {
   "cell_type": "code",
   "execution_count": null,
   "id": "4bf77466",
   "metadata": {},
   "outputs": [],
   "source": []
  }
 ],
 "metadata": {
  "kernelspec": {
   "display_name": "Python 3 (ipykernel)",
   "language": "python",
   "name": "python3"
  },
  "language_info": {
   "codemirror_mode": {
    "name": "ipython",
    "version": 3
   },
   "file_extension": ".py",
   "mimetype": "text/x-python",
   "name": "python",
   "nbconvert_exporter": "python",
   "pygments_lexer": "ipython3",
   "version": "3.11.5"
  }
 },
 "nbformat": 4,
 "nbformat_minor": 5
}
